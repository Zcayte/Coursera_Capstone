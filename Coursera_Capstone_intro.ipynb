{
    "cells": [
        {
            "metadata": {
                "collapsed": true
            },
            "cell_type": "markdown",
            "source": "This notebook will be mainly used for the capstone project of the IBM Data Science Professional Certificate. "
        },
        {
            "metadata": {},
            "cell_type": "code",
            "source": "import pandas as pd\nimport numpy as np",
            "execution_count": 1,
            "outputs": []
        },
        {
            "metadata": {},
            "cell_type": "code",
            "source": "print ('Hello Capstone Project Course!')",
            "execution_count": 2,
            "outputs": [
                {
                    "output_type": "stream",
                    "text": "Hello Capstone Project Course!\n",
                    "name": "stdout"
                }
            ]
        },
        {
            "metadata": {},
            "cell_type": "markdown",
            "source": "# **_Moving Recommenations_**"
        },
        {
            "metadata": {},
            "cell_type": "markdown",
            "source": "## - From San Diego to London -"
        },
        {
            "metadata": {},
            "cell_type": "markdown",
            "source": "### Introduction:\n___________________\n\nMy problem is a simple one: I'll be moving from San Diego (USA) to London (UK soon) and I'll like to find out what the best neighborhoods are to start looking for a place to live.\n\nI would like to leverage all the information learned in this Professional Certificate to get specific recommendations according to my tastes. To this end I will apply a *Content-based recommendation system* as learned in the Machine Learning course, and combine it with *Foursquare location data* to. \n\nI envision my approach with the following stages:\n1. Get a list of all neighborhoods in San Diego\n2. Get location data using Geolocator\n3. Get top venues information for each neighborhood using Foursquare data\n4. Rank my top/bottom neighborhoods to create my \"likes\" profile\n5. Generate a ranking profile for the venue categories in the Foursquare data for San Diego according to my ranking if the neighborhoods\n6. Get a list of all neighborhoods in London\n7. Get location dat using Geolocator\n8. Get top venues information for each neighborhood using Forsquare data\n9. Use my ranking profile to assign values to London neighborhoods\n10. Identify top10 neighborhoods in London according to my preferences\n11. Get the top venues on these top10 neighborhoods (to see what they have and understand what drove their ranking)\n12. Map these neighborhoods\n\nAnd finally:\n_Use the map, ranking, and info to make my decision!_"
        },
        {
            "metadata": {},
            "cell_type": "markdown",
            "source": "## Data:\n____________\n\nI will be using 4 main sources of data:\n1. [The wikipedia page for San Diego communities:](https://en.wikipedia.org/wiki/List_of_communities_and_neighborhoods_of_San_Diego) \n- Unlike other sources we used in this course, the html data show the community names are includede as nested lists inside a table, so extracting the data will require some creativity\n- San Diego is located in Southern California, US (just north of the border with Mexico) and it has 118 Neighborhoods\n2. [Nominatim from GeoPy Geolocator:](https://geopy.readthedocs.io/en/stable/)\n- Geopy is a Python client for several popular geocoding web services. It makes it easy for Python developers to locate the coordinates of addresses, cities, countries, and landmarks across the globe using third-party geocoders and other data sources.\n- The Nominatim geocoder uses the geocoding service from OpenStreetMap\n- I will be using this source to get the latitudes and longitudes for the neighborhoods of San Diego and London\n3. [The wikipedia page for London neighborhoods:](https://en.wikipedia.org/wiki/List_of_areas_of_London)\n- This list includes both the City of London, London, and the Greater London Metropolitan Area, totalling 531 neighborhoods\n4. [Foursquare locator data:](https://foursquare.com/city-guide)\n- As we learned, Foursquare is a platform that leverages crowdsourcing to collect location information to build a dynamic database and provide useful, up-to-date answers to location-based queries such as venue information, top ranked venues around a specific location, user tips, and even trending venues. \n- I will leverage Foursquare location data to identify the top venues for each Neighborhood in San Diego and London, to build a profile for each neighborhood based on what's available in each of them. "
        },
        {
            "metadata": {},
            "cell_type": "code",
            "source": "",
            "execution_count": null,
            "outputs": []
        }
    ],
    "metadata": {
        "kernelspec": {
            "name": "python3",
            "display_name": "Python 3.7",
            "language": "python"
        },
        "language_info": {
            "name": "python",
            "version": "3.7.9",
            "mimetype": "text/x-python",
            "codemirror_mode": {
                "name": "ipython",
                "version": 3
            },
            "pygments_lexer": "ipython3",
            "nbconvert_exporter": "python",
            "file_extension": ".py"
        }
    },
    "nbformat": 4,
    "nbformat_minor": 1
}